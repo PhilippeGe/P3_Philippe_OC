{
 "cells": [
  {
   "cell_type": "markdown",
   "id": "03e8fc97",
   "metadata": {
    "toc": true
   },
   "source": [
    "<h1>Table of Contents<span class=\"tocSkip\"></span></h1>\n",
    "<div class=\"toc\"><ul class=\"toc-item\"><li><span><a href=\"#Aperçu-des-données-nutritionnelles\" data-toc-modified-id=\"Aperçu-des-données-nutritionnelles-1\"><span class=\"toc-item-num\">1&nbsp;&nbsp;</span>Aperçu des données nutritionnelles</a></span><ul class=\"toc-item\"><li><span><a href=\"#Découvrir-des-exemples-de-produits-par-nutriscore\" data-toc-modified-id=\"Découvrir-des-exemples-de-produits-par-nutriscore-1.1\"><span class=\"toc-item-num\">1.1&nbsp;&nbsp;</span>Découvrir des exemples de produits par nutriscore</a></span></li></ul></li><li><span><a href=\"#Analyse-des-données\" data-toc-modified-id=\"Analyse-des-données-2\"><span class=\"toc-item-num\">2&nbsp;&nbsp;</span>Analyse des données</a></span><ul class=\"toc-item\"><li><span><a href=\"#Univariée:-Visualisation-du-remplissage-des-nutriscores\" data-toc-modified-id=\"Univariée:-Visualisation-du-remplissage-des-nutriscores-2.1\"><span class=\"toc-item-num\">2.1&nbsp;&nbsp;</span>Univariée: Visualisation du remplissage des nutriscores</a></span></li><li><span><a href=\"#Analyse-bivariée\" data-toc-modified-id=\"Analyse-bivariée-2.2\"><span class=\"toc-item-num\">2.2&nbsp;&nbsp;</span>Analyse bivariée</a></span></li></ul></li><li><span><a href=\"#Analyse-multivariée-:-ACP\" data-toc-modified-id=\"Analyse-multivariée-:-ACP-3\"><span class=\"toc-item-num\">3&nbsp;&nbsp;</span>Analyse multivariée : ACP</a></span></li></ul></div>"
   ]
  },
  {
   "cell_type": "code",
   "execution_count": 156,
   "id": "132d3721",
   "metadata": {},
   "outputs": [],
   "source": [
    "from __future__ import print_function\n",
    "from ipywidgets import interact, interactive, fixed, interact_manual, FloatSlider, Button, Label\n",
    "import ipywidgets as widgets\n",
    "from ipywidgets import Layout, HBox, VBox\n",
    "\n",
    "\n",
    "from IPython.display import Image, HTML\n",
    "from IPython.display import display as disp\n",
    "from IPython import display\n",
    "\n",
    "from IPython.display import Image, HTML\n",
    "from IPython.display import display as disp\n",
    "\n",
    "#from zipfile import ZipFile, Path\n",
    "import matplotlib.pyplot as plt\n",
    "import numpy as np\n",
    "import pandas as pd\n",
    "import seaborn as sns\n",
    "import voila\n",
    "import streamlit as st\n",
    "import time\n",
    "import threading\n",
    "\n",
    "import statsmodels.api as sm\n",
    "import plotly.graph_objects as go\n",
    "from sklearn import decomposition\n",
    "from sklearn import preprocessing\n",
    "from sklearn.linear_model import LinearRegression\n",
    "from sklearn.model_selection import KFold\n",
    "from functions import *\n",
    "\n",
    "import warnings\n",
    "warnings.filterwarnings('ignore')\n",
    "\n",
    "# Show all code cells outputs\n",
    "from IPython.core.interactiveshell import InteractiveShell\n",
    "InteractiveShell.ast_node_interactivity = 'all'\n",
    "\n",
    "\n",
    "\n",
    "import ipywidgets as widgets\n",
    "from ipywidgets import interact, interact_manual\n",
    "#interact(f, x=10)"
   ]
  },
  {
   "cell_type": "code",
   "execution_count": 123,
   "id": "01b71d8f",
   "metadata": {},
   "outputs": [
    {
     "name": "stdout",
     "output_type": "stream",
     "text": [
      "Des données optimisées d'OpenFoodFacts sont chargées avec succes\n"
     ]
    }
   ],
   "source": [
    "data_load = pd.read_csv(\"./data/PGclean_data.csv\",low_memory=False) #index_col=\"product_name\"\n",
    "print(\"Des données optimisées d'OpenFoodFacts sont chargées avec succes\")\n",
    "#remove the indices exported in the notebook01 (keeping track of orignal indices of products)\n",
    "data_load=data_load[[\"fat_100g\", \"sugars_100g\", \"fiber_100g\", \"proteins_100g\",\"energy_100g\",\"nutriscore_score\",\"nutriscore_grade\",\"product_name\"]]\n",
    "\n"
   ]
  },
  {
   "cell_type": "code",
   "execution_count": 124,
   "id": "fdf24324",
   "metadata": {},
   "outputs": [],
   "source": [
    "# fig = go.Figure()\n",
    "# fig.add_trace(go.Scatter(y=[2, 1, 4, 3]))\n",
    "# fig.add_trace(go.Bar(y=[1, 4, 3, 2]))\n",
    "# fig.update_layout(title = 'Hello Figure')\n",
    "# fig.show()"
   ]
  },
  {
   "cell_type": "markdown",
   "id": "cb622fd9",
   "metadata": {},
   "source": [
    "# Aperçu des données nutritionnelles #\n",
    "\n",
    "\n",
    "Visualisez le type de données nettoyées:"
   ]
  },
  {
   "cell_type": "code",
   "execution_count": 125,
   "id": "675dd2dc",
   "metadata": {},
   "outputs": [
    {
     "data": {
      "text/html": [
       "<div>\n",
       "<style scoped>\n",
       "    .dataframe tbody tr th:only-of-type {\n",
       "        vertical-align: middle;\n",
       "    }\n",
       "\n",
       "    .dataframe tbody tr th {\n",
       "        vertical-align: top;\n",
       "    }\n",
       "\n",
       "    .dataframe thead th {\n",
       "        text-align: right;\n",
       "    }\n",
       "</style>\n",
       "<table border=\"1\" class=\"dataframe\">\n",
       "  <thead>\n",
       "    <tr style=\"text-align: right;\">\n",
       "      <th></th>\n",
       "      <th>fat_100g</th>\n",
       "      <th>sugars_100g</th>\n",
       "      <th>fiber_100g</th>\n",
       "      <th>proteins_100g</th>\n",
       "      <th>energy_100g</th>\n",
       "      <th>nutriscore_score</th>\n",
       "      <th>nutriscore_grade</th>\n",
       "      <th>product_name</th>\n",
       "    </tr>\n",
       "  </thead>\n",
       "  <tbody>\n",
       "    <tr>\n",
       "      <th>0</th>\n",
       "      <td>0.0</td>\n",
       "      <td>14.0</td>\n",
       "      <td>0.20</td>\n",
       "      <td>0.5</td>\n",
       "      <td>259.0</td>\n",
       "      <td>9.0</td>\n",
       "      <td>d</td>\n",
       "      <td>Jus de sureau</td>\n",
       "    </tr>\n",
       "    <tr>\n",
       "      <th>1</th>\n",
       "      <td>15.0</td>\n",
       "      <td>33.2</td>\n",
       "      <td>0.90</td>\n",
       "      <td>4.1</td>\n",
       "      <td>1565.0</td>\n",
       "      <td>14.0</td>\n",
       "      <td>d</td>\n",
       "      <td>8 Mini muffins, cœur fondant au fruits rouges</td>\n",
       "    </tr>\n",
       "    <tr>\n",
       "      <th>2</th>\n",
       "      <td>56.0</td>\n",
       "      <td>0.9</td>\n",
       "      <td>0.10</td>\n",
       "      <td>7.5</td>\n",
       "      <td>2276.0</td>\n",
       "      <td>21.0</td>\n",
       "      <td>e</td>\n",
       "      <td>Foie gras de canard entier du Sud-Ouest</td>\n",
       "    </tr>\n",
       "    <tr>\n",
       "      <th>3</th>\n",
       "      <td>29.1</td>\n",
       "      <td>0.6</td>\n",
       "      <td>0.44</td>\n",
       "      <td>13.5</td>\n",
       "      <td>1372.0</td>\n",
       "      <td>21.0</td>\n",
       "      <td>e</td>\n",
       "      <td>Terrine de campagne pur porc</td>\n",
       "    </tr>\n",
       "    <tr>\n",
       "      <th>4</th>\n",
       "      <td>30.0</td>\n",
       "      <td>0.0</td>\n",
       "      <td>0.00</td>\n",
       "      <td>32.0</td>\n",
       "      <td>1682.0</td>\n",
       "      <td>17.0</td>\n",
       "      <td>d</td>\n",
       "      <td>Copeaux Parmigiano Reggiano</td>\n",
       "    </tr>\n",
       "  </tbody>\n",
       "</table>\n",
       "</div>"
      ],
      "text/plain": [
       "   fat_100g  sugars_100g  fiber_100g  proteins_100g  energy_100g  \\\n",
       "0       0.0         14.0        0.20            0.5        259.0   \n",
       "1      15.0         33.2        0.90            4.1       1565.0   \n",
       "2      56.0          0.9        0.10            7.5       2276.0   \n",
       "3      29.1          0.6        0.44           13.5       1372.0   \n",
       "4      30.0          0.0        0.00           32.0       1682.0   \n",
       "\n",
       "   nutriscore_score nutriscore_grade  \\\n",
       "0               9.0                d   \n",
       "1              14.0                d   \n",
       "2              21.0                e   \n",
       "3              21.0                e   \n",
       "4              17.0                d   \n",
       "\n",
       "                                    product_name  \n",
       "0                                  Jus de sureau  \n",
       "1  8 Mini muffins, cœur fondant au fruits rouges  \n",
       "2        Foie gras de canard entier du Sud-Ouest  \n",
       "3                   Terrine de campagne pur porc  \n",
       "4                    Copeaux Parmigiano Reggiano  "
      ]
     },
     "execution_count": 125,
     "metadata": {},
     "output_type": "execute_result"
    }
   ],
   "source": [
    "data_load.head(5)"
   ]
  },
  {
   "cell_type": "markdown",
   "id": "89393e05",
   "metadata": {},
   "source": [
    "## Découvrir des exemples de produits par nutriscore ##\n",
    "\n",
    "Sélectionnez le nutriscore (entre A et E), pour voir une liste de produits"
   ]
  },
  {
   "cell_type": "code",
   "execution_count": 126,
   "id": "d6d58e98",
   "metadata": {},
   "outputs": [
    {
     "data": {
      "application/vnd.jupyter.widget-view+json": {
       "model_id": "6459f6668b6c4fe190c5098f21312ada",
       "version_major": 2,
       "version_minor": 0
      },
      "text/plain": [
       "interactive(children=(IntSlider(value=5, description='Nb produits:', max=1000), Dropdown(description='nutrisco…"
      ]
     },
     "metadata": {},
     "output_type": "display_data"
    },
    {
     "data": {
      "text/plain": [
       "<function __main__.update_df_length(limit_case, nutriscore)>"
      ]
     },
     "execution_count": 126,
     "metadata": {},
     "output_type": "execute_result"
    }
   ],
   "source": [
    "pd.set_option('display.max_rows', None)\n",
    "\n",
    "\n",
    "def update_df_length(limit_case,nutriscore):  #int #pd.dataframe\n",
    "    #data_load = pd.read_csv(\"./data/PGclean_data.csv\",low_memory=False)\n",
    "    if nutriscore == 'tous':\n",
    "        disp(data_load.head(limit_case)) #limit\n",
    "    else:\n",
    "        disp(data_load[data_load['nutriscore_grade']==nutriscore].head(limit_case))\n",
    "    \n",
    "    print('Nombre de produits affichés: {}  nutriscore: {}'.format(limit_case,nutriscore))\n",
    "    \n",
    "interact(update_df_length, limit_case=widgets.IntSlider(min=0, max=1000, description='Nb produits:',step=1, value=5),nutriscore=['tous','a','b','c','d','e'])"
   ]
  },
  {
   "cell_type": "markdown",
   "id": "19fbbc46",
   "metadata": {},
   "source": [
    "# Analyse des données #\n",
    "## Univariée: Visualisation du remplissage des nutriscores ##"
   ]
  },
  {
   "cell_type": "code",
   "execution_count": 127,
   "id": "2159e91c",
   "metadata": {},
   "outputs": [
    {
     "data": {
      "text/plain": [
       "Text(0.5, 1.0, \"distribution des nutriscores sur l'echantillon\")"
      ]
     },
     "execution_count": 127,
     "metadata": {},
     "output_type": "execute_result"
    },
    {
     "data": {
      "text/plain": [
       "Text(0.5, 0, 'valeur des nutriscores')"
      ]
     },
     "execution_count": 127,
     "metadata": {},
     "output_type": "execute_result"
    },
    {
     "data": {
      "text/plain": [
       "Text(0, 0.5, 'frequence')"
      ]
     },
     "execution_count": 127,
     "metadata": {},
     "output_type": "execute_result"
    },
    {
     "data": {
      "image/png": "[encoded data removed]",
      "text/plain": [
       "<Figure size 432x288 with 1 Axes>"
      ]
     },
     "metadata": {
      "needs_background": "light"
     },
     "output_type": "display_data"
    }
   ],
   "source": [
    "# Imprimer les principaux éléments de statistiques\n",
    "ybars=[data_load[data_load['nutriscore_grade']=='a'].shape[0], data_load[data_load['nutriscore_grade']=='b'].shape[0], data_load[data_load['nutriscore_grade']=='c'].shape[0], data_load[data_load['nutriscore_grade']=='d'].shape[0], data_load[data_load['nutriscore_grade']=='e'].shape[0]]\n",
    "xbars=['a','b','c','d','e']\n",
    "# plt.title(\"distribution des nutriscores sur l'echantillon\")\n",
    "# #plt.xlabel(\"valeur des nutriscores\")\n",
    "# #plt.ylabel(\"frequence\")\n",
    "# #plt.xticks(range(5))\n",
    "# disp(plt.bar(xbars, ybars))\n",
    "\n",
    "\n",
    "# fig = go.Figure()\n",
    "# fig.add_trace(go.Bar(x= xbars, y=ybars))\n",
    "# fig.update_layout(title = 'distribution des nutriscores sur l\\'echantillon')\n",
    "# fig.show()\n",
    "\n",
    "ax = sns.barplot(x=xbars,\n",
    "                y=ybars)\n",
    "\n",
    "plt.title('distribution des nutriscores sur l\\'echantillon')\n",
    "plt.xlabel(\"valeur des nutriscores\")\n",
    "plt.ylabel(\"frequence\")\n",
    "plt.show()"
   ]
  },
  {
   "cell_type": "markdown",
   "id": "112ac328",
   "metadata": {},
   "source": [
    "## Analyse bivariée ##\n",
    "\n",
    "Commençons par comparer les variables 2 à 2 pour saisir les relations potentielles entre elles. Nous affichons, ci-dessous, les produits alimentaires de manière colorée selon la valeur de leur nutriscore (A,B,C,D,E). "
   ]
  },
  {
   "cell_type": "code",
   "execution_count": 132,
   "id": "38cda38d",
   "metadata": {},
   "outputs": [
    {
     "data": {
      "application/vnd.jupyter.widget-view+json": {
       "model_id": "ea1ef6e2856f4fd9b216926e7a4e3cb2",
       "version_major": 2,
       "version_minor": 0
      },
      "text/plain": [
       "interactive(children=(IntSlider(value=700, description='taille echantillon', max=2000, min=200, step=10), Outp…"
      ]
     },
     "metadata": {},
     "output_type": "display_data"
    },
    {
     "data": {
      "text/plain": [
       "<function __main__.update_bivarie(sample_size)>"
      ]
     },
     "execution_count": 132,
     "metadata": {},
     "output_type": "execute_result"
    }
   ],
   "source": [
    "def update_bivarie(sample_size): \n",
    "    print(\"Nutriscore_grade relation en fonction de chaque variable: \")\n",
    "    ax=sns.pairplot(data_load.sample(sample_size,random_state=0).sort_values(by=\"nutriscore_grade\"),hue=\"nutriscore_grade\")\n",
    "    plt.show()\n",
    "    \n",
    "    \n",
    "interact(update_bivarie, sample_size=widgets.IntSlider(min=200, max=2000, description='taille echantillon',step=10, value=700))"
   ]
  },
  {
   "cell_type": "markdown",
   "id": "a25ee67d",
   "metadata": {},
   "source": [
    "# Analyse multivariée : ACP #\n",
    "\n",
    "Dans cette partie, il sera possible de :\n",
    "- choisir le nombre de composantes principales pour projeter les variables \n",
    "- choisir la taille de l'échantillon de produits à projeter sur les axes précédemment calculés. \n"
   ]
  },
  {
   "cell_type": "code",
   "execution_count": 155,
   "id": "007edeb0",
   "metadata": {},
   "outputs": [
    {
     "data": {
      "application/vnd.jupyter.widget-view+json": {
       "model_id": "84e75e379c38495481551623332200a4",
       "version_major": 2,
       "version_minor": 0
      },
      "text/plain": [
       "interactive(children=(IntSlider(value=4, description='nb comp principale', max=6, min=2, step=2), IntSlider(va…"
      ]
     },
     "metadata": {},
     "output_type": "display_data"
    },
    {
     "data": {
      "text/plain": [
       "<function __main__.compute_pca(n_comp=4, n_data_pca=800, n_produits_projetes=500)>"
      ]
     },
     "execution_count": 155,
     "metadata": {},
     "output_type": "execute_result"
    },
    {
     "data": {
      "text/plain": [
       "<Figure size 504x432 with 0 Axes>"
      ]
     },
     "metadata": {},
     "output_type": "display_data"
    },
    {
     "data": {
      "text/plain": [
       "<Figure size 504x432 with 0 Axes>"
      ]
     },
     "metadata": {},
     "output_type": "display_data"
    },
    {
     "data": {
      "text/plain": [
       "<Figure size 504x432 with 0 Axes>"
      ]
     },
     "metadata": {},
     "output_type": "display_data"
    }
   ],
   "source": [
    "#chargement de l'ensemble des données numériques du tableau de données dans le calcul du PCA\n",
    "# les données disponibles dans ce jeu de données n'est que de 200000 produits relativement représentatifs de l'ensemble des données\n",
    "# disponibles et nettoyées\n",
    "# n_comp=4 #sur ce jeu de données le nombre de composantes principales ayant un intéret est 2\n",
    "# n_data_pca= 800\n",
    "# n_produits_projetes= 500\n",
    "\n",
    "def compute_pca(n_comp=4,n_data_pca=800,n_produits_projetes=500 ):\n",
    "    data_pca_sample = data_load.sample(n_data_pca,random_state=0)\n",
    "\n",
    "    data_pca = data_pca_sample[[\"fat_100g\", \"sugars_100g\",  \"proteins_100g\",\"energy_100g\",\"nutriscore_score\"]]\n",
    "    #data_pca = data_pca.dropna()\n",
    "\n",
    "    print('taille de l\\'echantillon de données pour le PCA: {}'.format(data_pca.shape))\n",
    "\n",
    "    X= data_pca.values\n",
    "    names = data_pca_sample[[\"nutriscore_grade\"]]\n",
    "    features = data_pca.columns\n",
    "\n",
    "\n",
    "    # Centrage et Réduction\n",
    "    std_scale = preprocessing.StandardScaler().fit(X)\n",
    "    X_scaled = std_scale.transform(X)\n",
    "\n",
    "    # Calcul des composantes principales\n",
    "    pca = decomposition.PCA(n_components=n_comp)\n",
    "    pca.fit(X_scaled)\n",
    "\n",
    "    # Eboulis des valeurs propres\n",
    "    display_scree_plot(pca)\n",
    "\n",
    "    # Cercle des corrélations\n",
    "    pcs = pca.components_\n",
    "    display_circles(pcs, n_comp, pca, [(0,1),(2,3),(4,5),(6,7)], labels = np.array(features))\n",
    "\n",
    "    X_projected = pca.transform(X_scaled)\n",
    "    if n_produits_projetes <X.shape[0]-1:\n",
    "        print('taille de l\\'échantillon de produits projetés: {}'.format(X_projected[0:(n_produits_projetes-1)].shape))\n",
    "        display_factorial_planes(X_projected[0:(n_produits_projetes-1)], n_comp, pca, [(0,1),(2,3),(4,5),(6,7)], illustrative_var = names[0:(n_produits_projetes-1)] )  \n",
    "\n",
    "    else:\n",
    "        print('le nombre de produits projetés est trop importants par rapport à la taille de l\\'echantillon de données du pca')\n",
    "\n",
    "    plt.show()\n",
    "    \n",
    "interact(compute_pca, n_comp=widgets.IntSlider(min=2, max=4, description='nb comp principale',step=2, value=4), n_data_pca=widgets.IntSlider(min=400, max=2000, description='size data sample',step=1, value=800), n_produits_projetes=widgets.IntSlider(min=100, max=3000, description='nb produit projetes',step=1, value=500))\n"
   ]
  },
  {
   "cell_type": "code",
   "execution_count": null,
   "id": "35792465",
   "metadata": {},
   "outputs": [],
   "source": []
  }
 ],
 "metadata": {
  "kernelspec": {
   "display_name": "P3env2",
   "language": "python",
   "name": "p3env2"
  },
  "language_info": {
   "codemirror_mode": {
    "name": "ipython",
    "version": 3
   },
   "file_extension": ".py",
   "mimetype": "text/x-python",
   "name": "python",
   "nbconvert_exporter": "python",
   "pygments_lexer": "ipython3",
   "version": "3.9.4"
  },
  "toc": {
   "base_numbering": 1,
   "nav_menu": {},
   "number_sections": true,
   "sideBar": true,
   "skip_h1_title": false,
   "title_cell": "Table of Contents",
   "title_sidebar": "Contents",
   "toc_cell": true,
   "toc_position": {},
   "toc_section_display": true,
   "toc_window_display": false
  }
 },
 "nbformat": 4,
 "nbformat_minor": 5
}
