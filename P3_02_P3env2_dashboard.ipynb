{
 "cells": [
  {
   "cell_type": "markdown",
   "id": "a03fe9f2",
   "metadata": {
    "toc": true
   },
   "source": [
    "<h1>Table of Contents<span class=\"tocSkip\"></span></h1>\n",
    "<div class=\"toc\"><ul class=\"toc-item\"><li><span><a href=\"#Aperçu-des-données-nutritionnelles\" data-toc-modified-id=\"Aperçu-des-données-nutritionnelles-1\"><span class=\"toc-item-num\">1&nbsp;&nbsp;</span>Aperçu des données nutritionnelles</a></span><ul class=\"toc-item\"><li><span><a href=\"#Découvrir-des-exemples-de-produits-par-nutriscore\" data-toc-modified-id=\"Découvrir-des-exemples-de-produits-par-nutriscore-1.1\"><span class=\"toc-item-num\">1.1&nbsp;&nbsp;</span>Découvrir des exemples de produits par nutriscore</a></span></li></ul></li></ul></div>"
   ]
  },
  {
   "cell_type": "code",
   "execution_count": 57,
   "id": "3e9a3239",
   "metadata": {},
   "outputs": [],
   "source": [
    "from __future__ import print_function\n",
    "from ipywidgets import interact, interactive, fixed, interact_manual, FloatSlider, Button, Label\n",
    "import ipywidgets as widgets\n",
    "from ipywidgets import Layout, HBox, VBox\n",
    "\n",
    "\n",
    "from IPython.display import Image, HTML\n",
    "from IPython.display import display as disp\n",
    "from IPython import display\n",
    "\n",
    "from IPython.display import Image, HTML\n",
    "from IPython.display import display as disp\n",
    "\n",
    "#from zipfile import ZipFile, Path\n",
    "import matplotlib.pyplot as plt\n",
    "import numpy as np\n",
    "import pandas as pd\n",
    "import seaborn as sns\n",
    "import voila\n",
    "import streamlit as st\n",
    "import time\n",
    "import threading\n",
    "\n",
    "#import statsmodels.api as sm\n",
    "import plotly.graph_objects as go\n",
    "from sklearn import decomposition\n",
    "from sklearn import preprocessing\n",
    "from sklearn.linear_model import LinearRegression\n",
    "from sklearn.model_selection import KFold\n",
    "#from functions import *\n",
    "\n",
    "import warnings\n",
    "warnings.filterwarnings('ignore')\n",
    "\n",
    "# Show all code cells outputs\n",
    "from IPython.core.interactiveshell import InteractiveShell\n",
    "InteractiveShell.ast_node_interactivity = 'all'\n",
    "\n",
    "\n",
    "\n",
    "import ipywidgets as widgets\n",
    "from ipywidgets import interact, interact_manual\n",
    "#interact(f, x=10)"
   ]
  },
  {
   "cell_type": "code",
   "execution_count": 74,
   "id": "7e59f691",
   "metadata": {},
   "outputs": [],
   "source": [
    "# Graphic Interface\n",
    "\n",
    "style = {'description_width': 'initial'}\n",
    "\n",
    "limit_data2see = widgets.IntSlider(\n",
    "    value=5,\n",
    "    min=2,\n",
    "    max=200,\n",
    "    step=1,\n",
    "    description='Nombre de produits:',\n",
    "    disabled=False,\n",
    "    style=style)\n",
    "\n",
    "\n",
    "\n",
    "\n"
   ]
  },
  {
   "cell_type": "code",
   "execution_count": 24,
   "id": "bbb9b3df",
   "metadata": {},
   "outputs": [],
   "source": []
  },
  {
   "cell_type": "code",
   "execution_count": 76,
   "id": "7b1b64cc",
   "metadata": {},
   "outputs": [
    {
     "name": "stdout",
     "output_type": "stream",
     "text": [
      "Des données optimisées d'OpenFoodFacts sont chargées avec succes\n"
     ]
    }
   ],
   "source": [
    "data_load = pd.read_csv(\"./data/PGclean_data.csv\",low_memory=False) #index_col=\"product_name\"\n",
    "print(\"Des données optimisées d'OpenFoodFacts sont chargées avec succes\")\n",
    "#data_load.head(10)"
   ]
  },
  {
   "cell_type": "code",
   "execution_count": null,
   "id": "82bae54a",
   "metadata": {},
   "outputs": [],
   "source": [
    "\n"
   ]
  },
  {
   "cell_type": "code",
   "execution_count": 77,
   "id": "f4538dfa",
   "metadata": {},
   "outputs": [],
   "source": [
    "# fig = go.Figure()\n",
    "# fig.add_trace(go.Scatter(y=[2, 1, 4, 3]))\n",
    "# fig.add_trace(go.Bar(y=[1, 4, 3, 2]))\n",
    "# fig.update_layout(title = 'Hello Figure')\n",
    "# fig.show()"
   ]
  },
  {
   "cell_type": "code",
   "execution_count": null,
   "id": "8319f378",
   "metadata": {},
   "outputs": [],
   "source": []
  },
  {
   "cell_type": "markdown",
   "id": "c18b2640",
   "metadata": {},
   "source": [
    "# Aperçu des données nutritionnelles #\n",
    "\n",
    "\n",
    "Visualisez le type de données nettoyées:"
   ]
  },
  {
   "cell_type": "code",
   "execution_count": 78,
   "id": "343af2b2",
   "metadata": {},
   "outputs": [
    {
     "data": {
      "text/html": [
       "<div>\n",
       "<style scoped>\n",
       "    .dataframe tbody tr th:only-of-type {\n",
       "        vertical-align: middle;\n",
       "    }\n",
       "\n",
       "    .dataframe tbody tr th {\n",
       "        vertical-align: top;\n",
       "    }\n",
       "\n",
       "    .dataframe thead th {\n",
       "        text-align: right;\n",
       "    }\n",
       "</style>\n",
       "<table border=\"1\" class=\"dataframe\">\n",
       "  <thead>\n",
       "    <tr style=\"text-align: right;\">\n",
       "      <th></th>\n",
       "      <th>Unnamed: 0</th>\n",
       "      <th>fat_100g</th>\n",
       "      <th>sugars_100g</th>\n",
       "      <th>fiber_100g</th>\n",
       "      <th>proteins_100g</th>\n",
       "      <th>energy_100g</th>\n",
       "      <th>nutriscore_score</th>\n",
       "      <th>nutriscore_grade</th>\n",
       "      <th>product_name</th>\n",
       "    </tr>\n",
       "  </thead>\n",
       "  <tbody>\n",
       "    <tr>\n",
       "      <th>0</th>\n",
       "      <td>1433286</td>\n",
       "      <td>0.0</td>\n",
       "      <td>14.0</td>\n",
       "      <td>0.20</td>\n",
       "      <td>0.5</td>\n",
       "      <td>259.0</td>\n",
       "      <td>9.0</td>\n",
       "      <td>d</td>\n",
       "      <td>Jus de sureau</td>\n",
       "    </tr>\n",
       "    <tr>\n",
       "      <th>1</th>\n",
       "      <td>983645</td>\n",
       "      <td>15.0</td>\n",
       "      <td>33.2</td>\n",
       "      <td>0.90</td>\n",
       "      <td>4.1</td>\n",
       "      <td>1565.0</td>\n",
       "      <td>14.0</td>\n",
       "      <td>d</td>\n",
       "      <td>8 Mini muffins, cœur fondant au fruits rouges</td>\n",
       "    </tr>\n",
       "    <tr>\n",
       "      <th>2</th>\n",
       "      <td>667554</td>\n",
       "      <td>56.0</td>\n",
       "      <td>0.9</td>\n",
       "      <td>0.10</td>\n",
       "      <td>7.5</td>\n",
       "      <td>2276.0</td>\n",
       "      <td>21.0</td>\n",
       "      <td>e</td>\n",
       "      <td>Foie gras de canard entier du Sud-Ouest</td>\n",
       "    </tr>\n",
       "    <tr>\n",
       "      <th>3</th>\n",
       "      <td>787015</td>\n",
       "      <td>29.1</td>\n",
       "      <td>0.6</td>\n",
       "      <td>0.44</td>\n",
       "      <td>13.5</td>\n",
       "      <td>1372.0</td>\n",
       "      <td>21.0</td>\n",
       "      <td>e</td>\n",
       "      <td>Terrine de campagne pur porc</td>\n",
       "    </tr>\n",
       "    <tr>\n",
       "      <th>4</th>\n",
       "      <td>954612</td>\n",
       "      <td>30.0</td>\n",
       "      <td>0.0</td>\n",
       "      <td>0.00</td>\n",
       "      <td>32.0</td>\n",
       "      <td>1682.0</td>\n",
       "      <td>17.0</td>\n",
       "      <td>d</td>\n",
       "      <td>Copeaux Parmigiano Reggiano</td>\n",
       "    </tr>\n",
       "  </tbody>\n",
       "</table>\n",
       "</div>"
      ],
      "text/plain": [
       "   Unnamed: 0  fat_100g  sugars_100g  fiber_100g  proteins_100g  energy_100g  \\\n",
       "0     1433286       0.0         14.0        0.20            0.5        259.0   \n",
       "1      983645      15.0         33.2        0.90            4.1       1565.0   \n",
       "2      667554      56.0          0.9        0.10            7.5       2276.0   \n",
       "3      787015      29.1          0.6        0.44           13.5       1372.0   \n",
       "4      954612      30.0          0.0        0.00           32.0       1682.0   \n",
       "\n",
       "   nutriscore_score nutriscore_grade  \\\n",
       "0               9.0                d   \n",
       "1              14.0                d   \n",
       "2              21.0                e   \n",
       "3              21.0                e   \n",
       "4              17.0                d   \n",
       "\n",
       "                                    product_name  \n",
       "0                                  Jus de sureau  \n",
       "1  8 Mini muffins, cœur fondant au fruits rouges  \n",
       "2        Foie gras de canard entier du Sud-Ouest  \n",
       "3                   Terrine de campagne pur porc  \n",
       "4                    Copeaux Parmigiano Reggiano  "
      ]
     },
     "execution_count": 78,
     "metadata": {},
     "output_type": "execute_result"
    }
   ],
   "source": [
    "data_load.head(5)"
   ]
  },
  {
   "cell_type": "markdown",
   "id": "9a14fd67",
   "metadata": {},
   "source": [
    "## Découvrir des exemples de produits par nutriscore ##\n",
    "\n",
    "Sélectionnez le nutriscore (entre A et E), pour voir une liste de produits"
   ]
  },
  {
   "cell_type": "code",
   "execution_count": 79,
   "id": "f05bfd02",
   "metadata": {},
   "outputs": [
    {
     "data": {
      "application/vnd.jupyter.widget-view+json": {
       "model_id": "ba22849d9b8646fe946f07263a1e7610",
       "version_major": 2,
       "version_minor": 0
      },
      "text/plain": [
       "interactive(children=(IntSlider(value=10, description='limit_case', max=30, min=-10), Dropdown(description='nu…"
      ]
     },
     "metadata": {},
     "output_type": "display_data"
    },
    {
     "data": {
      "text/plain": [
       "<function __main__.update_df_length(limit_case, nutriscore)>"
      ]
     },
     "execution_count": 79,
     "metadata": {},
     "output_type": "execute_result"
    }
   ],
   "source": [
    "style = {'description_width': 'initial'}\n",
    "limit_case = widgets.IntSlider(\n",
    "    value=1000,\n",
    "    min=100,\n",
    "    max=5000,\n",
    "    step=1,\n",
    "    description='Max Number of Case:',\n",
    "    disabled=False,\n",
    "    style=style)\n",
    "\n",
    "def update_df_length(limit_case,nutriscore):  #int #pd.dataframe\n",
    "    #data_load = pd.read_csv(\"./data/PGclean_data.csv\",low_memory=False)\n",
    "    if nutriscore == 'tous':\n",
    "        disp(data_load.head(limit_case)) #limit\n",
    "    else:\n",
    "        disp(data_load[data_load['nutriscore_grade']==nutriscore].head(limit_case))\n",
    "    \n",
    "    print('Nombre de produits affichés: {}  nutriscore: {}'.format(limit_case,nutriscore))\n",
    "    \n",
    "interact(update_df_length, limit_case=10,nutriscore=['tous','a','b','c','d','e'])"
   ]
  },
  {
   "cell_type": "code",
   "execution_count": null,
   "id": "7f5e4673",
   "metadata": {},
   "outputs": [],
   "source": []
  }
 ],
 "metadata": {
  "kernelspec": {
   "display_name": "P3env2",
   "language": "python",
   "name": "p3env2"
  },
  "language_info": {
   "codemirror_mode": {
    "name": "ipython",
    "version": 3
   },
   "file_extension": ".py",
   "mimetype": "text/x-python",
   "name": "python",
   "nbconvert_exporter": "python",
   "pygments_lexer": "ipython3",
   "version": "3.9.4"
  },
  "toc": {
   "base_numbering": 1,
   "nav_menu": {},
   "number_sections": true,
   "sideBar": true,
   "skip_h1_title": false,
   "title_cell": "Table of Contents",
   "title_sidebar": "Contents",
   "toc_cell": true,
   "toc_position": {},
   "toc_section_display": true,
   "toc_window_display": false
  }
 },
 "nbformat": 4,
 "nbformat_minor": 5
}
